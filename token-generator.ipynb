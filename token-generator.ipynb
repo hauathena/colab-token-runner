import requests
from google.oauth2 import service_account
import google.auth.transport.requests

SCOPES = ['https://www.googleapis.com/auth/chat.messages.readonly']
SERVICE_ACCOUNT_FILE = SERVICE_ACCOUNT_JSON

credentials = service_account.Credentials.from_service_account_file(
    SERVICE_ACCOUNT_FILE, scopes=SCOPES
)
auth_req = google.auth.transport.requests.Request()
credentials.refresh(auth_req)
access_token = credentials.token

# Send token to n8n webhook
webhook_url = 'https://autoai9.app.n8n.cloud/webhook-test/receive-google-token'  # Replace with actual webhook
payload = { "token": access_token }

response = requests.post(webhook_url, json=payload)
print("Status:", response.status_code)
print("n8n response:", response.text)
