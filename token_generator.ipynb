{
  "nbformat": 4,
  "nbformat_minor": 0,
  "metadata": {
    "colab": {
      "provenance": []
    },
    "kernelspec": {
      "name": "python3",
      "display_name": "Python 3"
    },
    "language_info": {
      "name": "python"
    }
  },
  "cells": [
    {
      "cell_type": "code",
      "source": [
        "import requests\n",
        "from google.oauth2 import service_account\n",
        "import google.auth.transport.requests\n",
        "import os\n",
        "\n",
        "SCOPES = ['https://www.googleapis.com/auth/chat.messages.readonly']\n",
        "SERVICE_ACCOUNT_FILE = os.getenv(\"SERVICE_ACCOUNT_JSON\", \"sa.json\")\n",
        "\n",
        "credentials = service_account.Credentials.from_service_account_file(\n",
        "    SERVICE_ACCOUNT_FILE, scopes=SCOPES\n",
        ")\n",
        "auth_req = google.auth.transport.requests.Request()\n",
        "credentials.refresh(auth_req)\n",
        "access_token = credentials.token\n",
        "\n",
        "# Send token to n8n webhook\n",
        "webhook_url = 'https://autoai9.app.n8n.cloud/webhook-test/receive-google-token'  # Replace with actual webhook\n",
        "payload = { \"token\": access_token }\n",
        "\n",
        "response = requests.post(webhook_url, json=payload)\n",
        "print(\"Status:\", response.status_code)\n",
        "print(\"n8n response:\", response.text)"
      ],
      "metadata": {
        "id": "2OkmH7QG8KL6"
      },
      "execution_count": null,
      "outputs": []
    }
  ]
}